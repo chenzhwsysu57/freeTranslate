{
 "cells": [
  {
   "cell_type": "code",
   "execution_count": null,
   "metadata": {},
   "outputs": [],
   "source": [
    "content = \"\"\"\n",
    "阅读以下对话，抽取实体关系的schema。\n",
    "\n",
    "\n",
    "\"\"\""
   ]
  },
  {
   "cell_type": "code",
   "execution_count": 2,
   "metadata": {},
   "outputs": [
    {
     "name": "stdout",
     "output_type": "stream",
     "text": [
      "27 106 HTTP响应状态码`200`表示请求成功。具体来说，`Response [200]`通常指的是：\n",
      "\n",
      "- **HTTP状态码**：200 OK\n",
      "- **含义**：服务器已成功处理了请求，并且请求的结果在响应中返回。\n",
      "\n",
      "在Web开发和网络通信中，当你向一个服务器发送一个请求，服务器会根据请求的类型和内容返回一个状态码。状态码`200`是最常见的成功状态码之一，表明请求已被服务器理解、接受并成功处理。\n"
     ]
    }
   ],
   "source": [
    "import os \n",
    "os.environ[\"MOONSHOT_API_KEY\"] = \"sk-fqQyKya6vmBhQCSGeVN03hYF3hjmFcjMCJwIVA6oj36l3gcD\"\n",
    "from openai import OpenAI\n",
    " \n",
    "client = OpenAI(\n",
    "    api_key = os.environ.get(\"MOONSHOT_API_KEY\"),\n",
    "    base_url = \"https://api.moonshot.cn/v1\",\n",
    ")\n",
    "\n",
    "with open('prompt/prompt1.md', 'r') as f:\n",
    "    prompt = f.read()\n",
    "    \n",
    "\n",
    "completion = client.chat.completions.create(\n",
    "    model = \"moonshot-v1-8k\",\n",
    "    messages = [\n",
    "        {\"role\": \"system\", \"content\": \"你是一个知识图谱专家以及麻醉学主任\"},\n",
    "        {\"role\": \"user\", \"content\": \"Response [200]的意思\"}\n",
    "    ],\n",
    "    temperature = 0.3,\n",
    ")\n",
    " \n",
    "input, output, dataset = completion.usage.prompt_tokens, completion.usage.completion_tokens, completion.choices[0].message.content\n",
    "print(input, output, dataset)"
   ]
  },
  {
   "cell_type": "code",
   "execution_count": null,
   "metadata": {},
   "outputs": [],
   "source": []
  }
 ],
 "metadata": {
  "kernelspec": {
   "display_name": "instructionDataset",
   "language": "python",
   "name": "python3"
  },
  "language_info": {
   "codemirror_mode": {
    "name": "ipython",
    "version": 3
   },
   "file_extension": ".py",
   "mimetype": "text/x-python",
   "name": "python",
   "nbconvert_exporter": "python",
   "pygments_lexer": "ipython3",
   "version": "3.10.14"
  }
 },
 "nbformat": 4,
 "nbformat_minor": 2
}
