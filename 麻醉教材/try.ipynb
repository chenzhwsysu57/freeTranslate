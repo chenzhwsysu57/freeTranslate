{
 "cells": [
  {
   "cell_type": "code",
   "execution_count": 3,
   "metadata": {},
   "outputs": [],
   "source": [
    "import re \n",
    "import tiktoken"
   ]
  },
  {
   "cell_type": "markdown",
   "metadata": {},
   "source": [
    "# 切分数据集"
   ]
  },
  {
   "cell_type": "code",
   "execution_count": 4,
   "metadata": {},
   "outputs": [],
   "source": [
    "file = '/Users/chenzhiwei/Downloads/麻醉/麻醉学-第3版杨拔贤/2024_07_09_002a177993bd97d1d6d7g/2024_07_09_002a177993bd97d1d6d7g.tex'\n",
    "with open(file, 'r') as f:\n",
    "    tex_content = f.read()\n",
    "\n",
    "def split_tex_by_section(tex_content):\n",
    "    sections = re.split('\\\\\\\\section\\*', tex_content)\n",
    "    # sections = ['\\section*' + sec for sec in sections if sec]\n",
    "    return sections"
   ]
  },
  {
   "cell_type": "code",
   "execution_count": 18,
   "metadata": {},
   "outputs": [
    {
     "name": "stdout",
     "output_type": "stream",
     "text": [
      "677\n"
     ]
    }
   ],
   "source": [
    "sections = split_tex_by_section(tex_content)\n",
    "print(len(sections))"
   ]
  },
  {
   "cell_type": "code",
   "execution_count": 19,
   "metadata": {},
   "outputs": [],
   "source": [
    "sections = [section.replace('\\n', ' ').replace('\\\\', ' ') for section in sections]"
   ]
  },
  {
   "cell_type": "code",
   "execution_count": 20,
   "metadata": {},
   "outputs": [
    {
     "data": {
      "text/plain": [
       "'{第 3 版} 主 审 曾因明  主 编 杨拔贤 李文志  副主编 刘 进 姚尚龙 郭曲练 邓小明  “十二五”普通高等教䇌本科国家级规划教材  卫生部“十二五”规划教材  全国高等医药教材建设研究会 “十二五”规划教材全国高等学校教材  供基础、临床、预防、口腔医学类专业用    includegraphics[max width= textwidth, center]{2024_07_09_002a177993bd97d1d6d7g-002}  '"
      ]
     },
     "execution_count": 20,
     "metadata": {},
     "output_type": "execute_result"
    }
   ],
   "source": [
    "sections[2]"
   ]
  },
  {
   "cell_type": "code",
   "execution_count": null,
   "metadata": {},
   "outputs": [],
   "source": [
    "'{图书在版编目（CIP）数据}\\n麻醉科住院医师手册 / 鞠辉, 冯艺主编. 一北京:北京大学医学出版社, 2017.8\\n\\nISBN 978-7-5659-1556-7\\n\\nI . (1)麻… II . (1)鞠… (2)冯 III . (1)麻醉学 - 手册\\n\\nIV . (1) R614-62\\n\\n中国版本图书馆 CIP 数据核字（2017）第 024842 号\\n\\n麻醉科住院医师手册\\n\\n主 编: 鞠 辉 冯 艺\\n\\n出版发行: 北京大学医学出版社\\n\\n地址: (100191) 北京市海淀区学院路 38 号 北京大学医学部院内\\n\\n电话: 发行部 010-82802230; 图书邮购 010-82802495\\n\\n网 址: http: \\\\href{//www.pumpress.com.cn}{//www.pumpress.com.cn}\\n\\nE-mail : \\\\href{mailto:booksale@bjmu.edu.cn}{booksale@bjmu.edu.cn}\\n\\n印刷: 北京佳信达欣艺术印刷有限公司\\n\\n经 销: 新华书店\\n\\n责任编辑: 王智敏 袁师军 责任校对：金軕文 责任印制：李啸\\n\\n开 本: $889 \\\\mathrm{~mm} \\\\times 1194 \\\\mathrm{~mm} \\\\quad 1 / 32$ 印张: 11.75 字数: 283 千字\\n\\n版 次: 2017 年 8 月第 1 版 2017 年 8 月第 1 次印刷\\n\\n书 号: ISBN 978-7-5659-1556-7\\n\\n定 价: 55.00 元\\n\\n版权所有, 违者必究\\n\\n(凡属质量问题请与本社发行部联系退换)\\\\\\\\\\n有书由\\n\\n北京大学医学科学出版基金资助出版\\n\\n'"
   ]
  },
  {
   "cell_type": "code",
   "execution_count": 21,
   "metadata": {},
   "outputs": [],
   "source": [
    "def num_tokens_from_messages(messages, model=\"gpt-4-0314\"):\n",
    "    \"\"\"Return the number of tokens used by a list of messages.\"\"\"\n",
    "    try:\n",
    "        encoding = tiktoken.encoding_for_model(model)\n",
    "    except KeyError:\n",
    "        print(\"Warning: model not found. Using cl100k_base encoding.\")\n",
    "        encoding = tiktoken.get_encoding(\"cl100k_base\")\n",
    "    if model in {\n",
    "        \"gpt-3.5-turbo-0613\",\n",
    "        \"gpt-3.5-turbo-16k-0613\",\n",
    "        \"gpt-4-0314\",\n",
    "        \"gpt-4-32k-0314\",\n",
    "        \"gpt-4-0613\",\n",
    "        \"gpt-4-32k-0613\",\n",
    "        }:\n",
    "        tokens_per_message = 3\n",
    "        tokens_per_name = 1\n",
    "    elif model == \"gpt-3.5-turbo-0301\":\n",
    "        tokens_per_message = 4  # every message follows <|start|>{role/name}\\n{content}<|end|>\\n\n",
    "        tokens_per_name = -1  # if there's a name, the role is omitted\n",
    "    elif \"gpt-3.5-turbo\" in model:\n",
    "        print(\"Warning: gpt-3.5-turbo may update over time. Returning num tokens assuming gpt-3.5-turbo-0613.\")\n",
    "        return num_tokens_from_messages(messages, model=\"gpt-3.5-turbo-0613\")\n",
    "    elif \"gpt-4\" in model:\n",
    "        # print(\"Warning: gpt-4 may update over time. Returning num tokens assuming gpt-4-0613.\")\n",
    "        return num_tokens_from_messages(messages, model=\"gpt-4-0613\")\n",
    "    else:\n",
    "        raise NotImplementedError(\n",
    "            f\"\"\"num_tokens_from_messages() is not implemented for model {model}. See https://github.com/openai/openai-python/blob/main/chatml.md for information on how messages are converted to tokens.\"\"\"\n",
    "        )\n",
    "    num_tokens = 0\n",
    "    for message in messages:\n",
    "        num_tokens += tokens_per_message\n",
    "        for key, value in message.items():\n",
    "            num_tokens += len(encoding.encode(value))\n",
    "            if key == \"name\":\n",
    "                num_tokens += tokens_per_name\n",
    "    num_tokens += 3  # every reply is primed with <|start|>assistant<|message|>\n",
    "    return num_tokens\n"
   ]
  },
  {
   "cell_type": "code",
   "execution_count": 22,
   "metadata": {},
   "outputs": [
    {
     "data": {
      "text/plain": [
       "592"
      ]
     },
     "execution_count": 22,
     "metadata": {},
     "output_type": "execute_result"
    }
   ],
   "source": [
    "with open(\"prompt/prompt1.md\", 'r') as f:\n",
    "    cn_prompt = f.read()\n",
    "messages = [{\n",
    "    \"role\": \"system\",\n",
    "    \"content\": cn_prompt,\n",
    "}]\n",
    "num_tokens_from_messages(messages, \"gpt-4\")"
   ]
  },
  {
   "cell_type": "code",
   "execution_count": 42,
   "metadata": {},
   "outputs": [],
   "source": [
    "def make_datasets(sections):\n",
    "    datasets = []\n",
    "    current_set = \" \"\n",
    "    current_tokens = 0\n",
    "\n",
    "    for section in sections:\n",
    "        messages = [{\n",
    "            \"role\": \"system\",\n",
    "            \"content\": section,\n",
    "        }]\n",
    "        tokens = num_tokens_from_messages(messages, \"gpt-4\")\n",
    "        if current_tokens + tokens <= 2000:\n",
    "            current_set += str(section)\n",
    "            current_tokens += tokens\n",
    "        else:\n",
    "            datasets.append(current_set)\n",
    "            current_set = \" \" + section\n",
    "            current_tokens = tokens\n",
    "\n",
    "    if current_set:\n",
    "        datasets.append(current_set)\n",
    "\n",
    "    return datasets\n",
    "\n",
    "datasets = make_datasets(sections)"
   ]
  },
  {
   "cell_type": "code",
   "execution_count": 43,
   "metadata": {},
   "outputs": [],
   "source": [
    "import pickle"
   ]
  },
  {
   "cell_type": "code",
   "execution_count": 44,
   "metadata": {},
   "outputs": [],
   "source": [
    "with open('datasets.pkl', 'wb') as f:\n",
    "    pickle.dump(datasets, f)"
   ]
  },
  {
   "cell_type": "code",
   "execution_count": 45,
   "metadata": {},
   "outputs": [
    {
     "name": "stdout",
     "output_type": "stream",
     "text": [
      " {（一）麻醉科门诊} 随着医院管理工作的进步, 特别是保证质量、提高效率和减轻患者负担, 麻醉科门诊 (或麻醉前评估中心) 将日益成为医院门诊工作的重要组成部分。麻醉科门诊的主要工作内容如下:   begin{enumerate}    item 麻醉前检查、评估与准备 为缩短患者的住院周期 (床位周转率), 保证麻醉前充分准备, 凡拟接受择期手术的患者,在手术医师进行术前检查与准备的基础上, 人院前应由麻醉科医师在麻醉科门诊按要求作进一步的检查与准备。其优点是: (1)患者人院后即可安排手术, 甚至在当日即可安排手术, 可显著缩短住院日期, 提高床位周转率; (2)可避免因麻醉前检查不全面而延迟手术; (3)杜绝外科医师与麻醉科医师因对术前准备的意见不一致而发生矛盾; (4) 患者人院前麻醉科已能了解到病情及麻醉处理的难度, 便于恰当地安排麻醉工作。麻醉前检查、评估与准备工作目前均在病房进行, 随着医院现代化进程的加速, 有条件的医院应逐步将这一工作转移到门诊。     item 对麻醉并发症的随访和诊疗 麻醉后并发症由麻醉科医师亲自诊治是十分必要的。目前, 麻醉并发症的诊治并不是由麻醉科医师负责, 尤其是在患者出院后, 麻醉科医师无机会对这些患者进行诊疗, 疗效也不理想。随着麻醉科门诊的建立, 将改变这种状况, 对患者是有益的。     item 麻醉前会诊或咨询。     item 呼吸治疗、药物依赖戒断治疗 (“戒毒”)等。     item 疼痛诊疗可单独开设疼痛诊疗门诊或多学科疼痛诊疗中心,并可建立相应的病房。   end{enumerate}  {（二）临床麻醉} 临床麻醉的工作场所主要在手术室内, 目前已拓展到手术室外,其发展迅速,已成为临床麻醉的一个重要分支。手术室外麻醉广义是指病房手术室外的麻醉处理，包括门诊手术。狭义是门诊 (急诊) 及病房手术室外的麻醉、镇痛与镇静，包括介人治疗、内镜检查及各科无痛治疗等。在规模较大、条件较好的麻醉科,还应建立临床麻醉的分支学科 (或称为亚科),如心血管外科、胸外科、脑外科、产科和小儿外科麻醉等,以培养专门人才,提高专科麻醉的医疗质量。  \n"
     ]
    }
   ],
   "source": [
    "print(datasets[13])"
   ]
  },
  {
   "cell_type": "code",
   "execution_count": 50,
   "metadata": {},
   "outputs": [
    {
     "name": "stdout",
     "output_type": "stream",
     "text": [
      " {（一）解剖} 支配下肢的神经来自于腰丛和骶丛神经。腰丛由腰,$_{1}  sim$ 腰 $_{4} left( mathrm{~L}_{1}  sim  mathrm{L}_{4} right)$ 前支构成, 常有胸 ${ }_{12}$ $ left( mathrm{T}_{12} right)$, 偶有腰 $ left( mathrm{L}_{5} right)$ 分支参与。由 $ mathrm{L}_{2}  sim  mathrm{L}_{4}$ 组成的腰丛成分主要支配大腿的前、内侧; $ mathrm{L}_{2}  sim  mathrm{L}_{4}$ 的前支组成闭孔神经, 后支组成股神经, 而 $ mathrm{L}_{2}$ 和 $ mathrm{L}_{3}$ 的后支又组成股外侧皮神经 (图 3-7)。腰丛神经位于腰大肌和腰方肌之间的腰大肌间隙内。   begin{center}  includegraphics[max width= textwidth]{2024_07_09_002a177993bd97d1d6d7g-055}  end{center}  图 3-7 腰神经丛解剖图  髊丛来源于骶 $ sim$ 骶 $ left( mathrm{S}_{1}  sim  mathrm{S}_{3} right)$ 骬神经和 $ mathrm{L}_{4}$ 和 $ mathrm{L}_{5}$ 前支的分支, 主要构成股后皮神经和坐骨神经, 一起经过坐骨大孔穿出骨盆, 支配下肢后面和足的运动和感觉。坐骨神经包含胫神经和腓总神经的主于 (由 $ mathrm{L}_{4} 、  mathrm{~L}_{5} 、  mathrm{~S}_{1}  sim  mathrm{S}_{3}$ 前支的腹侧支组成胫神经, 背侧支组成腓总神经), 二者在腘窝或腘窝上方从坐骨神经分出后, 胫神经走行在内侧而腓总神经绕到外侧下行。  {（二）腰神经丛阻滞(腰肌间祘阻滞) ( lumbar plexus block)}  begin{enumerate}    item 适应证 腰神经丛阻滞可同时阻滞股外侧皮神经、股神经和闭孔神经。因此,适用于膝部、大腿前部和䯘部手术; 加上坐骨神经阻滞可阻滞整个下肢; 置人导管可用于滕关节和骹关节的术后持续镇痛。     item 操作方法一般采用后路法。患者侧卧位, 患肢置于上部。确认双侧骼塍并作一连线,此线常通过第 4 腰椎。在患侧连线上、由脊柱旁开 $5  mathrm{~cm}$ 处即为穿刺点。穿刺针由穿刺点垂直进针, 直达第 4 腰椎横突; 然后针尖向尾侧滑过第 4 腰椎横突下缘; 继续进针约 $0.5  mathrm{~cm}$ 后有明显落空感, 表明针已进人腰大肌间隙内; 回吸无异常后注人局麻药 $20  sim 30  mathrm{ml}$ (图 3-8)。用神经刺激器定位, 当电流小于 $0.5  mathrm{~mA}$ 时仍有股四头肌收缩反应, 可确定穿刺针已抵达腰丛。     item 并发症 后路法腰丛阻滞进针过深时, 有进人硬脊膜外隙、蛛网膜下隙或血管内的危险;也有导致血肿和神经损伤的可能。   end{enumerate}  \n"
     ]
    }
   ],
   "source": [
    "print(datasets[41])"
   ]
  },
  {
   "cell_type": "code",
   "execution_count": 47,
   "metadata": {},
   "outputs": [
    {
     "name": "stdout",
     "output_type": "stream",
     "text": [
      "0 2984\n",
      "1 1341\n",
      "2 1342\n",
      "3 1526\n",
      "4 1357\n",
      "5 1823\n",
      "6 1294\n",
      "7 759\n",
      "8 2112\n",
      "9 1150\n",
      "10 932\n",
      "11 953\n",
      "12 1564\n",
      "13 914\n",
      "14 1720\n",
      "15 1177\n",
      "16 931\n",
      "17 903\n",
      "18 1400\n",
      "19 2292\n",
      "20 700\n",
      "21 4673\n",
      "22 1509\n",
      "23 1586\n",
      "24 1108\n",
      "25 1253\n",
      "26 415\n",
      "27 1424\n",
      "28 1884\n",
      "29 1454\n",
      "30 2056\n",
      "31 1505\n",
      "32 1493\n",
      "33 1504\n",
      "34 1209\n",
      "35 1686\n",
      "36 1061\n",
      "37 1638\n",
      "38 1693\n",
      "39 1667\n",
      "40 1433\n",
      "41 1373\n",
      "42 2047\n",
      "43 1565\n",
      "44 1520\n",
      "45 1550\n",
      "46 2046\n",
      "47 1407\n",
      "48 1594\n",
      "49 1690\n",
      "50 1562\n",
      "51 1353\n",
      "52 1286\n",
      "53 1178\n",
      "54 1152\n",
      "55 1206\n",
      "56 1653\n",
      "57 1207\n",
      "58 1769\n",
      "59 574\n",
      "60 3022\n",
      "61 1613\n",
      "62 1207\n",
      "63 1156\n",
      "64 2063\n",
      "65 247\n",
      "66 1800\n",
      "67 785\n",
      "68 1998\n",
      "69 1828\n",
      "70 1686\n",
      "71 1578\n",
      "72 1070\n",
      "73 1543\n",
      "74 2057\n",
      "75 819\n",
      "76 1628\n",
      "77 1246\n",
      "78 4413\n",
      "79 1649\n",
      "80 1088\n",
      "81 799\n",
      "82 2243\n",
      "83 1838\n",
      "84 1118\n",
      "85 1544\n",
      "86 1298\n",
      "87 1868\n",
      "88 1715\n",
      "89 1723\n",
      "90 1610\n",
      "91 1070\n",
      "92 1569\n",
      "93 1548\n",
      "94 1668\n",
      "95 737\n",
      "96 1613\n",
      "97 1208\n",
      "98 1521\n",
      "99 1318\n",
      "100 1586\n",
      "101 1166\n",
      "102 2426\n",
      "103 1532\n",
      "104 2090\n",
      "105 1407\n",
      "106 1839\n",
      "107 1361\n",
      "108 6268\n",
      "109 2645\n",
      "110 1440\n",
      "111 3852\n",
      "112 1007\n",
      "113 899\n",
      "114 1963\n",
      "115 1262\n",
      "116 933\n",
      "117 1639\n",
      "118 863\n",
      "119 1985\n",
      "120 886\n",
      "121 2117\n",
      "122 1557\n",
      "123 537\n",
      "124 4374\n",
      "125 1518\n",
      "126 1690\n",
      "127 1037\n",
      "128 1995\n",
      "129 911\n",
      "130 922\n",
      "131 2091\n",
      "132 1781\n",
      "133 1217\n",
      "134 2849\n",
      "135 1989\n",
      "136 1741\n",
      "137 1493\n",
      "138 1839\n",
      "139 1740\n",
      "140 1643\n",
      "141 2281\n",
      "142 1765\n",
      "143 1916\n",
      "144 1493\n",
      "145 1597\n",
      "146 1730\n",
      "147 1695\n",
      "148 929\n",
      "149 1976\n",
      "150 2079\n",
      "151 620\n",
      "152 1495\n",
      "153 1061\n",
      "154 1185\n",
      "155 1694\n",
      "156 697\n",
      "157 2026\n",
      "158 689\n",
      "159 1854\n",
      "160 1404\n",
      "161 839\n",
      "162 1906\n",
      "163 1166\n",
      "164 1587\n",
      "165 1636\n",
      "166 1807\n",
      "167 752\n",
      "168 1439\n",
      "169 2758\n",
      "170 2214\n",
      "171 3912\n",
      "172 1902\n",
      "173 1006\n",
      "174 2065\n",
      "175 2988\n",
      "176 1372\n",
      "177 1856\n",
      "178 225\n",
      "179 2112\n",
      "180 1464\n",
      "181 908\n",
      "182 2268\n",
      "183 305\n",
      "184 3801\n",
      "185 2185\n",
      "186 1579\n",
      "187 834\n",
      "188 1393\n",
      "189 1412\n",
      "190 957\n",
      "191 1704\n",
      "192 1311\n",
      "193 1303\n",
      "194 1024\n",
      "195 1165\n",
      "196 1354\n",
      "197 1222\n",
      "198 1620\n",
      "199 1665\n",
      "200 1451\n",
      "201 1868\n",
      "202 1882\n",
      "203 1249\n",
      "204 1032\n",
      "205 1825\n",
      "206 953\n",
      "207 988\n",
      "208 1925\n",
      "209 1736\n",
      "210 5169\n",
      "211 1343\n",
      "212 1505\n",
      "213 590\n",
      "214 2213\n",
      "215 483\n",
      "216 1748\n",
      "217 2007\n",
      "218 1270\n",
      "219 677\n",
      "220 2962\n",
      "221 1055\n",
      "222 1326\n",
      "223 963\n",
      "224 1782\n",
      "225 1273\n",
      "226 1515\n",
      "227 1398\n",
      "228 1981\n",
      "229 3760\n",
      "230 137\n",
      "231 1948\n",
      "232 1165\n",
      "233 866\n",
      "234 2054\n",
      "235 1313\n",
      "236 3828\n",
      "237 470\n",
      "238 4939\n",
      "239 3605\n",
      "240 1641\n",
      "241 1850\n",
      "242 548\n",
      "243 3799\n",
      "244 354\n",
      "245 2831\n",
      "246 1200\n",
      "247 1596\n",
      "248 1732\n",
      "249 1229\n",
      "250 1256\n",
      "251 1690\n",
      "252 2440\n",
      "253 1137\n",
      "254 1584\n",
      "255 1833\n",
      "256 2195\n",
      "257 1351\n",
      "258 1662\n",
      "259 1173\n",
      "260 1326\n",
      "261 1060\n",
      "262 1435\n",
      "263 1632\n",
      "264 1327\n",
      "265 472\n",
      "266 1951\n",
      "267 1853\n",
      "268 1472\n",
      "269 1055\n",
      "270 1698\n",
      "271 1481\n",
      "272 1370\n",
      "273 2755\n",
      "274 3711\n",
      "275 3397\n",
      "276 2696\n",
      "277 1515\n"
     ]
    }
   ],
   "source": [
    "for i in range(len(datasets)):\n",
    "    print(i, len(datasets[i]))"
   ]
  },
  {
   "cell_type": "code",
   "execution_count": null,
   "metadata": {},
   "outputs": [],
   "source": []
  }
 ],
 "metadata": {
  "kernelspec": {
   "display_name": "instructionDataset",
   "language": "python",
   "name": "python3"
  },
  "language_info": {
   "codemirror_mode": {
    "name": "ipython",
    "version": 3
   },
   "file_extension": ".py",
   "mimetype": "text/x-python",
   "name": "python",
   "nbconvert_exporter": "python",
   "pygments_lexer": "ipython3",
   "version": "3.10.14"
  }
 },
 "nbformat": 4,
 "nbformat_minor": 2
}
