{
 "cells": [
  {
   "cell_type": "code",
   "execution_count": 1,
   "metadata": {},
   "outputs": [],
   "source": [
    "import pyautogui as pg \n",
    "import time"
   ]
  },
  {
   "cell_type": "code",
   "execution_count": 1,
   "metadata": {},
   "outputs": [
    {
     "data": {
      "text/plain": [
       "True"
      ]
     },
     "execution_count": 1,
     "metadata": {},
     "output_type": "execute_result"
    }
   ],
   "source": [
    "import tagui as t\n",
    "t.init(visual_automation=True)\n",
    "t.url('https://translate.google.com/?hl=zh-CN&sl=zh-CN&tl=en&op=translate')"
   ]
  },
  {
   "cell_type": "code",
   "execution_count": 6,
   "metadata": {},
   "outputs": [],
   "source": [
    "pg.mouseInfo()"
   ]
  },
  {
   "cell_type": "code",
   "execution_count": 34,
   "metadata": {},
   "outputs": [
    {
     "data": {
      "image/png": "[encoded data removed]",
      "text/plain": [
       "<PIL.Image.Image image mode=RGBA size=31x36>"
      ]
     },
     "execution_count": 34,
     "metadata": {},
     "output_type": "execute_result"
    }
   ],
   "source": [
    "x1, y1 = 276,387 # 图标左上角\n",
    "x2, y2 = 307,423 # 图标右下角\n",
    "icon_region = (left, top, width, height) = (x1, y1, x2-x1, y2-y1)\n",
    "image = pg.screenshot('test.png', region=icon_region)\n",
    "image"
   ]
  },
  {
   "cell_type": "code",
   "execution_count": 35,
   "metadata": {},
   "outputs": [
    {
     "data": {
      "image/png": "[encoded data removed]",
      "text/plain": [
       "<PIL.Image.Image image mode=RGBA size=90x91>"
      ]
     },
     "execution_count": 35,
     "metadata": {},
     "output_type": "execute_result"
    }
   ],
   "source": [
    "x1, y1 = 248,369 # 搜索区域左上角\n",
    "x2, y2 = 338,460 # 搜索区域右下角\n",
    "search_region = [x1, y1, x2-x1, y2-y1]\n",
    "pg.screenshot(region=search_region)\n"
   ]
  },
  {
   "cell_type": "code",
   "execution_count": 48,
   "metadata": {},
   "outputs": [
    {
     "name": "stdout",
     "output_type": "stream",
     "text": [
      "3360 1680\n"
     ]
    }
   ],
   "source": [
    "import cv2 as cv\n",
    "import pyautogui as pg \n",
    "import numpy as np\n",
    "import collections\n",
    "class Point():\n",
    "    def __init__(self, left, top, width, height):\n",
    "        self.left = int(left) \n",
    "        self.top = int(top) \n",
    "        self.width = int(width) \n",
    "        self.height = int(height) \n",
    "Box = collections.namedtuple('Box', 'left top width height')\n",
    "def locate(icon: str = None): \n",
    "    # used to replace the bad pyautogui \n",
    "    # return (left, top, width, height) in pyautogui style, where 0,0 is top left.\n",
    "\n",
    "    img_rgb = cv.imread(icon)\n",
    "    img_gray = cv.cvtColor(img_rgb, cv.COLOR_BGR2GRAY)\n",
    "    full = pg.screenshot()\n",
    "    filename = \"full.png\"\n",
    "    full.save(filename)\n",
    "    template = cv.imread(filename, cv.IMREAD_GRAYSCALE)\n",
    "    w, h = img_gray.shape[::-1]\n",
    "    res = cv.matchTemplate(img_gray,template,cv.TM_CCOEFF_NORMED)\n",
    "    threshold = 0.8\n",
    "    loc = np.where( res >= threshold)\n",
    "    ratio = template.shape[1]/pg.size()[0]\n",
    "    print(template.shape[1], pg.size()[0])\n",
    "    for pt in zip(*loc[::-1]):\n",
    "        (left, top, width, height )= (int(pt[0]), int(pt[1]), w, h)\n",
    "        x,y,xw,xh = left/ratio, top/ratio, width/ratio, height/ratio\n",
    "        # return Point(x,y,xw,xh)\n",
    "        return Box(x,y,xw,xh)\n",
    "\n",
    "ret=locate(icon='ssbb.png')"
   ]
  },
  {
   "cell_type": "code",
   "execution_count": 49,
   "metadata": {},
   "outputs": [
    {
     "name": "stdout",
     "output_type": "stream",
     "text": [
      "213.0 490.5\n"
     ]
    }
   ],
   "source": [
    "print(ret.left, ret.top)"
   ]
  },
  {
   "cell_type": "code",
   "execution_count": 50,
   "metadata": {},
   "outputs": [
    {
     "data": {
      "text/plain": [
       "Point(x=231.0, y=509.5)"
      ]
     },
     "execution_count": 50,
     "metadata": {},
     "output_type": "execute_result"
    }
   ],
   "source": [
    "pg.moveTo(ret.left, ret.top,duration=1)\n",
    "pg.center(ret)"
   ]
  },
  {
   "cell_type": "code",
   "execution_count": 51,
   "metadata": {},
   "outputs": [],
   "source": [
    "pg.click(pg.center(ret))"
   ]
  }
 ],
 "metadata": {
  "kernelspec": {
   "display_name": "pyautogui",
   "language": "python",
   "name": "python3"
  },
  "language_info": {
   "codemirror_mode": {
    "name": "ipython",
    "version": 3
   },
   "file_extension": ".py",
   "mimetype": "text/x-python",
   "name": "python",
   "nbconvert_exporter": "python",
   "pygments_lexer": "ipython3",
   "version": "3.10.14"
  }
 },
 "nbformat": 4,
 "nbformat_minor": 2
}
