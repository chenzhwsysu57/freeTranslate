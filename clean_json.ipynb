{
 "cells": [
  {
   "cell_type": "markdown",
   "metadata": {},
   "source": [
    "这部分代码包括：\n",
    "\n",
    "从所有的 json 文件读取结果，json文件格式如下：\n",
    "\n",
    "```json\n",
    "[\n",
    "    {\n",
    "        \"query\": \"中文问题\",\n",
    "        \"answer\": \"中文回答\",\n",
    "    },\n",
    "    {\n",
    "        \"query\": \"中文问题\",\n",
    "        \"answer\": \"中文回答\",\n",
    "    },\n",
    "    // ...\n",
    "]\n",
    "```\n",
    "\n",
    "json 格式可能不完整，例如"
   ]
  },
  {
   "cell_type": "code",
   "execution_count": 57,
   "metadata": {},
   "outputs": [
    {
     "name": "stdout",
     "output_type": "stream",
     "text": [
      "json file count: 1006\n",
      "err file: 75\n"
     ]
    }
   ],
   "source": [
    "import os \n",
    "import glob \n",
    "import json5 \n",
    "import json\n",
    "all_data = []\n",
    "\n",
    "globpattern = 'gptqa/*.json'\n",
    "damaged_files = []\n",
    "json_files = glob.glob(globpattern)\n",
    "print(f\"json file count: {len(json_files)}\")\n",
    "err = 0\n",
    "for json_file in json_files:\n",
    "    try:\n",
    "        with open(json_file, 'r', encoding='utf-8') as file:\n",
    "            data = json.load(file)\n",
    "            all_data.extend(data)\n",
    "    except Exception as e:\n",
    "        err += 1\n",
    "        damaged_files.append(json_file)\n",
    "\n",
    "print(f\"err file: {err}\")"
   ]
  },
  {
   "cell_type": "code",
   "execution_count": 58,
   "metadata": {},
   "outputs": [
    {
     "name": "stdout",
     "output_type": "stream",
     "text": [
      "err: 0\n"
     ]
    }
   ],
   "source": [
    "err = 0\n",
    "for file_path in damaged_files:\n",
    "    with open(file_path, 'r', encoding='utf-8') as file:\n",
    "        content = file.read()\n",
    "    last_brace_index = content.rfind('},')\n",
    "    modified_string = content[:last_brace_index] + \"}]\"\n",
    "    modified_string = modified_string.replace('\\\\','') # 删除转义字符\n",
    "    try:\n",
    "        data = json5.loads(modified_string)\n",
    "        all_data.extend(data)\n",
    "    except Exception as e:\n",
    "        err += 1\n",
    "        print(file_path)\n",
    "print(f\"err: {err}\")"
   ]
  },
  {
   "cell_type": "code",
   "execution_count": 60,
   "metadata": {},
   "outputs": [
    {
     "name": "stdout",
     "output_type": "stream",
     "text": [
      "9379\n"
     ]
    }
   ],
   "source": [
    "output_file = 'merged_data.json'\n",
    "with open(output_file, 'w', encoding='utf-8') as outfile:\n",
    "    json.dump(all_data, outfile, ensure_ascii=False, indent=4)\n",
    "print(len(all_data))"
   ]
  },
  {
   "cell_type": "code",
   "execution_count": null,
   "metadata": {},
   "outputs": [],
   "source": []
  }
 ],
 "metadata": {
  "kernelspec": {
   "display_name": "pyautogui",
   "language": "python",
   "name": "python3"
  },
  "language_info": {
   "codemirror_mode": {
    "name": "ipython",
    "version": 3
   },
   "file_extension": ".py",
   "mimetype": "text/x-python",
   "name": "python",
   "nbconvert_exporter": "python",
   "pygments_lexer": "ipython3",
   "version": "3.10.14"
  }
 },
 "nbformat": 4,
 "nbformat_minor": 2
}
