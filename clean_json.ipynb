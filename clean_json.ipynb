{
 "cells": [
  {
   "cell_type": "code",
   "execution_count": 11,
   "metadata": {},
   "outputs": [
    {
     "name": "stdout",
     "output_type": "stream",
     "text": [
      "json file count: 1006\n",
      "err file: 1006\n"
     ]
    }
   ],
   "source": [
    "import os \n",
    "import glob \n",
    "import json \n",
    "\n",
    "globpattern = 'gptqa/*.json'\n",
    "json_files = glob.glob(globpattern)\n",
    "print(f\"json file count: {len(json_files)}\")\n",
    "err = 0\n",
    "for json_file in json_files:\n",
    "    try:\n",
    "        with open(json_file, 'r', encoding='utf-8') as file:\n",
    "            data = json.load(file)\n",
    "            print(data['query'])\n",
    "            print(data['answer'])\n",
    "    except Exception as e:\n",
    "        err += 1\n",
    "\n",
    "print(f\"err file: {err}\")"
   ]
  },
  {
   "cell_type": "code",
   "execution_count": null,
   "metadata": {},
   "outputs": [],
   "source": []
  }
 ],
 "metadata": {
  "kernelspec": {
   "display_name": "pyautogui",
   "language": "python",
   "name": "python3"
  },
  "language_info": {
   "codemirror_mode": {
    "name": "ipython",
    "version": 3
   },
   "file_extension": ".py",
   "mimetype": "text/x-python",
   "name": "python",
   "nbconvert_exporter": "python",
   "pygments_lexer": "ipython3",
   "version": "3.10.14"
  }
 },
 "nbformat": 4,
 "nbformat_minor": 2
}
