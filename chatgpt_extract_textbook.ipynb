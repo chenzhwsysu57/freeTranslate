{
 "cells": [
  {
   "cell_type": "markdown",
   "metadata": {},
   "source": [
    "# 代码测试开始"
   ]
  },
  {
   "cell_type": "markdown",
   "metadata": {},
   "source": [
    "准备教科书"
   ]
  },
  {
   "cell_type": "code",
   "execution_count": 5,
   "metadata": {},
   "outputs": [
    {
     "name": "stdout",
     "output_type": "stream",
     "text": [
      "2078\n",
      "428\n"
     ]
    }
   ],
   "source": [
    "import re\n",
    "file = '麻醉教材/麻醉学高级教程/2024_07_10_373f31b88d2bf633007bg/2024_07_10_373f31b88d2bf633007bg.tex'\n",
    "\n",
    "filebase = \"麻醉学高级教程\"\n",
    "\n",
    "def split_tex_by_section(filename):\n",
    "    with open(file, 'r') as f:\n",
    "        tex_content = f.read()\n",
    "    sections = re.split('\\\\\\\\section\\*', tex_content)\n",
    "    # sections = ['\\section*' + sec for sec in sections if sec]\n",
    "    sections = [section.replace('\\n', ' ').replace('\\\\', ' ') for section in sections]\n",
    "    return sections\n",
    "def make_datasets(sections):\n",
    "    datasets = []\n",
    "    current_set = \"\"\n",
    "    current_len = 0\n",
    "    size = 4000\n",
    "    for section in sections:\n",
    "        section_len = len(section)\n",
    "        \n",
    "        if section_len + current_len < size:\n",
    "            current_set += section\n",
    "            current_len += section_len\n",
    "        else:\n",
    "            if section_len >= size:\n",
    "                # 将超长的section拆分为多个部分\n",
    "                while len(section) >= size:\n",
    "                    datasets.append(section[:size - 2])\n",
    "                    section = section[size - 2:] # 允许 100 个重合\n",
    "                current_set = section\n",
    "                current_len = len(section)\n",
    "            else:\n",
    "                datasets.append(current_set)\n",
    "                current_set = section\n",
    "                current_len = section_len\n",
    "    if current_set:\n",
    "        datasets.append(current_set)\n",
    "    return datasets\n",
    "sections = split_tex_by_section(file)\n",
    "print(len(sections))\n",
    "datasets = make_datasets(sections)\n",
    "print(len(datasets))\n",
    "# for dataset in datasets:\n",
    "#     print(len(dataset))"
   ]
  },
  {
   "cell_type": "code",
   "execution_count": 6,
   "metadata": {},
   "outputs": [],
   "source": [
    "prefix_prompt = \"\"\"\n",
    "以下内容来自麻醉学高级教程部分PDF通过OCR得到的文字片段。 教程的内容可以被用于医学模型Q&A的训练。但是没有被整理和格式化。文本片段的内容不全是有价值的数据，而且有噪声。你需要自行判断什么样的数据可以被拿来作为数据集。\n",
    "\n",
    "\n",
    "给定内容，提取其中有医学价值的信息，组成问答对，请你帮我提取格式化成正确的json形式：\n",
    "\n",
    "[{\"query\": 问题, \"answer\": 答案},\n",
    "{\"query\": 问题, \"answer\": 答案},\n",
    "...\n",
    "]\n",
    "注意，不要返回其他内容。答案至少需要200字。重要的数据不能丢失。\n",
    "\n",
    "还需要保证生成结果的json格式完整。\n",
    "\n",
    "内容如下：\n",
    "\n",
    "\"\"\""
   ]
  },
  {
   "cell_type": "code",
   "execution_count": 4,
   "metadata": {},
   "outputs": [],
   "source": [
    "import time \n",
    "class LoginLogoutManager():\n",
    "    def __init__(self,):\n",
    "        self.userconfig = [\n",
    "            {\"username\": 'ziweicen@icloud.com', \"password\":'openai111czw'},\n",
    "            {\"username\":'zhiwei.zhiwei@u.nus.edu',\"password\":'timfy0-baSwiw-zyxqet'},\n",
    "            {\"username\":'chenzhw57@gmail.com','password':'gongxue@.5notlen'}\n",
    "        ]\n",
    "        self.idx = 0\n",
    "\n",
    "    def wait_until_present(self, selector):\n",
    "        start_time = time.time()\n",
    "        timeout = 20\n",
    "        while time.time() - start_time < timeout:\n",
    "            if t.present(selector):\n",
    "                return True\n",
    "            time.sleep(1)  # 等待1秒后再次检查\n",
    "        t.close()\n",
    "        raise TimeoutError(f\"超过等待时间 {timeout} 秒，无法找到元素 {selector}\")\n",
    "\n",
    "        # while(t.present(id) != True):\n",
    "        #     t.wait(1)\n",
    "        # return\n",
    "    \n",
    "    def log_out_chatgpt(self, ):\n",
    "        try:\n",
    "            t.close()\n",
    "        except Exception as e:\n",
    "            print(e)\n",
    "        t.init(visual_automation = True)\n",
    "        t.url('http://chatgpt.com')\n",
    "        self.wait_until_present(\"//button[contains(@data-testid, 'profile-button')]\")\n",
    "        if not t.present(\"//button[contains(@data-testid, 'profile-button')]\"):\n",
    "            print(\"找不到profile button\")\n",
    "            return \n",
    "        t.click(\"//button[contains(@data-testid, 'profile-button')]\")\n",
    "        t.click(\"注销\")\n",
    "        t.close()\n",
    "        return\n",
    "    \n",
    "    def login(self, username, password):\n",
    "        try:\n",
    "            t.close()\n",
    "        except Exception as e:\n",
    "            print(e)\n",
    "        t.init(visual_automation=True)\n",
    "        t.url('http://chatgpt.com')\n",
    "\n",
    "        self.wait_until_present(\"//button[contains(@data-testid,'welcome-login-button')]\")\n",
    "        if t.present(\"//button[contains(@data-testid,'welcome-login-button')]\"):\n",
    "            t.click(\"//button[contains(@data-testid,'welcome-login-button')]\")\n",
    "\n",
    "        self.wait_until_present(\"//input[contains(@class, 'email-input')]\")\n",
    "        if t.count(\"//input[contains(@class, 'email-input')]\") == 1:\n",
    "            t.type(\"//input[contains(@class, 'email-input')]\", username)\n",
    "        if t.count(\"继续\") == 1:\n",
    "            t.click(\"继续\")\n",
    "        self.wait_until_present(\"//input[contains(@name,'password')]\")\n",
    "        if t.count(\"//input[contains(@name,'password')]\") == 1:\n",
    "            t.type(\"//input[contains(@name,'password')]\", password)\n",
    "        self.wait_until_present(\"继续\")\n",
    "        if t.count(\"继续\") == 1:\n",
    "            t.click(\"继续\")\n",
    "        self.wait_until_present(\"//textarea[@id='prompt-textarea']\")\n",
    "        print(f\"log in success username: {username}\")\n",
    "\n",
    "    def first_login(self,):\n",
    "        self.login(self.userconfig[self.idx]['username'],self.userconfig[self.idx]['password'])\n",
    "        \n",
    "    def refresh(self,):\n",
    "        self.idx = (self.idx + 1)%len(self.user_config)\n",
    "        self.log_out_chatgpt()\n",
    "        self.login(self.userconfig[self.idx]['username'],self.userconfig[self.idx]['password'])"
   ]
  },
  {
   "cell_type": "code",
   "execution_count": 7,
   "metadata": {},
   "outputs": [],
   "source": [
    "import json\n",
    "import tagui as t\n",
    "import time \n",
    "import os \n",
    "import pyperclip as clip\n",
    "import random\n",
    "import sys \n",
    "if sys.platform == 'darwin':\n",
    "    MODIFIER = '[cmd]'\n",
    "elif sys.platform == 'linux':\n",
    "    MODIFIER = '[ctrl]'\n",
    "else:\n",
    "    raise NotImplementedError(f\"{sys.platform} not implmented!\")\n",
    "\n",
    "\n",
    "def write_json(filename, content):\n",
    "    # 不保证json格式完整\n",
    "    with open(filename, 'w') as file:\n",
    "        file.write(content)\n",
    "\n",
    "\n",
    "\n",
    "def generate_dataset(text):\n",
    "    login_logout_manager = LoginLogoutManager()\n",
    "    # login_logout_manager.first_login()\n",
    "    t.init(visual_automation = True)\n",
    "    t.url('https://www.chatgpt.com')\n",
    "\n",
    "    def wait_until_present(selector, timeout=15):\n",
    "        start_time = time.time()\n",
    "        while time.time() - start_time < timeout:\n",
    "            if t.present(selector):\n",
    "                return True\n",
    "            time.sleep(1)  # 等待1秒后再次检查\n",
    "        t.close()\n",
    "        raise TimeoutError(f\"超过等待时间 {timeout} 秒，无法找到元素 {selector}\")\n",
    "\n",
    "    def wait_til_no_stop_or_continue_button():\n",
    "        while True:\n",
    "            # 如果存在“继续生成”按钮\n",
    "            if t.present(\"继续生成\"):\n",
    "                t.click(\"继续生成\")\n",
    "                while not t.present(\"//button[contains(@data-testid, 'stop-button')]\"):\n",
    "                    t.wait(1)  # 等待直到“停止”按钮出现\n",
    "                t.wait(2)  # 确保“停止”按钮完全加载\n",
    "            else:\n",
    "                # 等待直到“停止”按钮消失\n",
    "                while t.present(\"//button[contains(@data-testid, 'stop-button')]\"):\n",
    "                    t.wait(1)  # 每秒检查一次\n",
    "                t.wait(2)  # 确保“停止”按钮完全消失\n",
    "\n",
    "            # 检查是否还有“继续生成”按钮\n",
    "            if not t.present(\"继续生成\"):\n",
    "                break  # 没有“继续生成”按钮，退出循环\n",
    "        return\n",
    "\n",
    "\n",
    "    try:\n",
    "        clip.copy(text)\n",
    "        wait_until_present(\"//textarea[@id='prompt-textarea']\")\n",
    "        t.keyboard('[esc]')\n",
    "        res = t.click(\"//textarea[@id='prompt-textarea']\")\n",
    "        print(f\"点击状态: {res}\")\n",
    "        res = t.keyboard(f\"{MODIFIER}v\")\n",
    "        print(f\"粘贴状态: {res}\")\n",
    "        wait_until_present(\"//button[@data-testid='send-button']\")\n",
    "        res = t.click(\"//button[@data-testid='send-button']\")\n",
    "        print(f\"点击发送状态：{res}\")\n",
    "  \n",
    "        wait_til_no_stop_or_continue_button() \n",
    "        if t.present(\"//div[contains(@class, 'text-sm text-token-text-error')]\"):\n",
    "            print(\"text-sm text-token-text-error\")\n",
    "            login_logout_manager.refresh()\n",
    "            return_string = clip.paste()\n",
    "            return return_string\n",
    "        if t.present(\"复制代码\"):\n",
    "            copy_status = t.click(\"复制代码\")\n",
    "            print(f\"复制状态: {copy_status}\")\n",
    "        # t.close()\n",
    "        else:\n",
    "            print(f\"找不到： 复制代码 按钮\")\n",
    "    except Exception as e:\n",
    "        print(f\"捕捉到错误：{e}\")\n",
    "        t.close()\n",
    "        return clip.paste()\n",
    "\n",
    "    t.close()\n",
    "    result_str = clip.paste()\n",
    "    return result_str"
   ]
  },
  {
   "cell_type": "code",
   "execution_count": 8,
   "metadata": {},
   "outputs": [
    {
     "name": "stdout",
     "output_type": "stream",
     "text": [
      "点击状态: True\n",
      "粘贴状态: True\n",
      "点击发送状态：True\n",
      "复制状态: True\n",
      "i = 258/428, successfully write gptqa/麻醉学高级教程_section258_4000_prompt2.json.\n",
      "点击状态: True\n",
      "粘贴状态: True\n",
      "点击发送状态：True\n",
      "复制状态: True\n",
      "i = 236/428, successfully write gptqa/麻醉学高级教程_section236_4000_prompt2.json.\n",
      "点击状态: True\n",
      "粘贴状态: True\n",
      "点击发送状态：True\n",
      "复制状态: True\n",
      "i = 387/428, successfully write gptqa/麻醉学高级教程_section387_4000_prompt2.json.\n",
      "捕捉到错误：超过等待时间 15 秒，无法找到元素 //textarea[@id='prompt-textarea']\n",
      "[RPA][ERROR] - use init() before using close()\n",
      "section 406 failed!\n",
      "点击状态: True\n",
      "粘贴状态: True\n",
      "点击发送状态：True\n",
      "复制状态: True\n",
      "i = 224/428, successfully write gptqa/麻醉学高级教程_section224_4000_prompt2.json.\n",
      "点击状态: True\n",
      "粘贴状态: True\n",
      "点击发送状态：True\n",
      "复制状态: True\n",
      "i = 266/428, successfully write gptqa/麻醉学高级教程_section266_4000_prompt2.json.\n"
     ]
    }
   ],
   "source": [
    "sections = datasets\n",
    "import random\n",
    "\n",
    "\n",
    "while True:\n",
    "    # for i in range(len(sections)):\n",
    "    random_indices = random.sample(range(len(sections)), len(sections))\n",
    "    for i in random_indices:\n",
    "\n",
    "        filename = f\"gptqa/{filebase}_section{i}_4000_prompt2.json\"\n",
    "        if not os.path.exists(filename):\n",
    "            ret = generate_dataset(prefix_prompt + sections[i])\n",
    "            if ret == prefix_prompt + sections[i]:\n",
    "                print(f\"section {i} failed!\")\n",
    "            else:\n",
    "                write_json(filename=filename, content=ret)\n",
    "                print(f\"i = {i}/{len(sections)}, successfully write {filename}.\")"
   ]
  },
  {
   "cell_type": "code",
   "execution_count": 9,
   "metadata": {},
   "outputs": [
    {
     "data": {
      "text/plain": [
       "428"
      ]
     },
     "execution_count": 9,
     "metadata": {},
     "output_type": "execute_result"
    }
   ],
   "source": [
    "len(datasets)"
   ]
  },
  {
   "cell_type": "code",
   "execution_count": 1,
   "metadata": {},
   "outputs": [
    {
     "data": {
      "text/plain": [
       "True"
      ]
     },
     "execution_count": 1,
     "metadata": {},
     "output_type": "execute_result"
    }
   ],
   "source": [
    "import tagui as t \n",
    "t.init(visual_automation = True)\n",
    "t.url('http://chatgpt.com')"
   ]
  },
  {
   "cell_type": "code",
   "execution_count": 4,
   "metadata": {},
   "outputs": [
    {
     "name": "stdout",
     "output_type": "stream",
     "text": [
      "找不到profile button\n"
     ]
    }
   ],
   "source": []
  },
  {
   "cell_type": "code",
   "execution_count": 8,
   "metadata": {},
   "outputs": [
    {
     "data": {
      "text/plain": [
       "2"
      ]
     },
     "execution_count": 8,
     "metadata": {},
     "output_type": "execute_result"
    }
   ],
   "source": [
    "t.count(\"//img[contains(@alt,'User')]\")"
   ]
  },
  {
   "cell_type": "code",
   "execution_count": 11,
   "metadata": {},
   "outputs": [
    {
     "data": {
      "text/plain": [
       "True"
      ]
     },
     "execution_count": 11,
     "metadata": {},
     "output_type": "execute_result"
    }
   ],
   "source": [
    "t.click(\"//button[contains(@data-testid, 'profile-button')]\")\n",
    "t.click(\"注销\")\n",
    "t.close()"
   ]
  },
  {
   "cell_type": "markdown",
   "metadata": {},
   "source": [
    "login logout test"
   ]
  },
  {
   "cell_type": "code",
   "execution_count": 1,
   "metadata": {},
   "outputs": [],
   "source": [
    "import tagui as t\n",
    "user_config = [\n",
    "    {\"username\": 'ziweicen@icloud.com', \"password\":'openai111czw'},\n",
    "    {\"username\":'zhiwei.zhiwei@u.nus.edu',\"password\":'timfy0-baSwiw-zyxqet'},\n",
    "    {\"username\":'chenzhw57@gmail.com','password':'gongxue@.5notlen'}\n",
    "]\n",
    "\n",
    "def wait_until_present(id):\n",
    "    while(t.present(id) != True):\n",
    "        t.wait(1)\n",
    "    return\n",
    "def log_out_chatgpt():\n",
    "    try:\n",
    "        t.close()\n",
    "    except Exception as e:\n",
    "        print(e)\n",
    "    t.init(visual_automation = True)\n",
    "    t.url('http://chatgpt.com')\n",
    "    wait_until_present(\"//button[contains(@data-testid, 'profile-button')]\")\n",
    "    if not t.present(\"//button[contains(@data-testid, 'profile-button')]\"):\n",
    "        print(\"找不到profile button\")\n",
    "        return \n",
    "    t.click(\"//button[contains(@data-testid, 'profile-button')]\")\n",
    "    t.click(\"注销\")\n",
    "    t.close()\n",
    "    return\n",
    "def login(username = 'ziweicen@icloud.com', password = 'openai111czw'):\n",
    "    try:\n",
    "        t.close()\n",
    "    except Exception as e:\n",
    "        print(e)\n",
    "    t.init(visual_automation=True)\n",
    "    t.url('http://chatgpt.com')\n",
    "\n",
    "    wait_until_present(\"//button[contains(@data-testid,'welcome-login-button')]\")\n",
    "    if t.present(\"//button[contains(@data-testid,'welcome-login-button')]\"):\n",
    "        t.click(\"//button[contains(@data-testid,'welcome-login-button')]\")\n",
    "\n",
    "    wait_until_present(\"//input[contains(@class, 'email-input')]\")\n",
    "    if t.count(\"//input[contains(@class, 'email-input')]\") == 1:\n",
    "        t.type(\"//input[contains(@class, 'email-input')]\", username)\n",
    "    if t.count(\"继续\") == 1:\n",
    "        t.click(\"继续\")\n",
    "    wait_until_present(\"//input[contains(@name,'password')]\")\n",
    "    if t.count(\"//input[contains(@name,'password')]\") == 1:\n",
    "        t.type(\"//input[contains(@name,'password')]\", password)\n",
    "    wait_until_present(\"继续\")\n",
    "    if t.count(\"继续\") == 1:\n",
    "        t.click(\"继续\")\n",
    "    wait_until_present(\"//textarea[@id='prompt-textarea']\")\n",
    "    print(f\"log in success username: {username}\")\n",
    "\n",
    "# 使用方法\n",
    "idx = 0\n",
    "while True:\n",
    "    login(user_config[idx]['username'],user_config[idx]['password'])\n",
    "    log_out_chatgpt()\n",
    "    idx = (idx + 1)%len(user_config)\n",
    "\n"
   ]
  }
 ],
 "metadata": {
  "kernelspec": {
   "display_name": "pyautogui",
   "language": "python",
   "name": "python3"
  },
  "language_info": {
   "codemirror_mode": {
    "name": "ipython",
    "version": 3
   },
   "file_extension": ".py",
   "mimetype": "text/x-python",
   "name": "python",
   "nbconvert_exporter": "python",
   "pygments_lexer": "ipython3",
   "version": "3.10.14"
  }
 },
 "nbformat": 4,
 "nbformat_minor": 2
}
